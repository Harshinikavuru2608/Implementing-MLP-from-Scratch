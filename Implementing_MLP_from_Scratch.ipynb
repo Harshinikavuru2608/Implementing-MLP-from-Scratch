{
  "cells": [
    {
      "cell_type": "markdown",
      "source": [
        "## Importing necessary libraries"
      ],
      "metadata": {
        "id": "s9H0vKofn2IS"
      }
    },
    {
      "cell_type": "code",
      "execution_count": null,
      "metadata": {
        "id": "OPd2Eif7SDbv"
      },
      "outputs": [],
      "source": [
        "import numpy as np\n",
        "import matplotlib.pyplot as plt\n",
        "import time"
      ]
    },
    {
      "cell_type": "markdown",
      "source": [
        "## Establishing the Inputs and Outputs for Parity problem"
      ],
      "metadata": {
        "id": "LaZ-ndAnn7Wq"
      }
    },
    {
      "cell_type": "code",
      "execution_count": null,
      "metadata": {
        "id": "hMQVVHFfSFdh"
      },
      "outputs": [],
      "source": [
        "inputs = np.array([[0, 0, 0, 0], [0, 0, 0, 1], [0, 0, 1, 0], [0, 0, 1, 1],\n",
        "    [0, 1, 0, 0], [0, 1, 0, 1], [0, 1, 1, 0], [0, 1, 1, 1],\n",
        "    [1, 0, 0, 0], [1, 0, 0, 1], [1, 0, 1, 0], [1, 0, 1, 1],\n",
        "    [1, 1, 0, 0], [1, 1, 0, 1], [1, 1, 1, 0], [1, 1, 1, 1]])"
      ]
    },
    {
      "cell_type": "code",
      "execution_count": null,
      "metadata": {
        "id": "RV9v-A6XSMWx"
      },
      "outputs": [],
      "source": [
        "outputs = np.array([[np.sum(X)%2] for X in inputs])"
      ]
    },
    {
      "cell_type": "code",
      "source": [
        "outputs"
      ],
      "metadata": {
        "colab": {
          "base_uri": "https://localhost:8080/"
        },
        "id": "oaGBrHgxrad0",
        "outputId": "7a2ee3db-2ed9-472e-f8d2-bcda14920635"
      },
      "execution_count": null,
      "outputs": [
        {
          "output_type": "execute_result",
          "data": {
            "text/plain": [
              "array([[0],\n",
              "       [1],\n",
              "       [1],\n",
              "       [0],\n",
              "       [1],\n",
              "       [0],\n",
              "       [0],\n",
              "       [1],\n",
              "       [1],\n",
              "       [0],\n",
              "       [0],\n",
              "       [1],\n",
              "       [0],\n",
              "       [1],\n",
              "       [1],\n",
              "       [0]])"
            ]
          },
          "metadata": {},
          "execution_count": 4
        }
      ]
    },
    {
      "cell_type": "markdown",
      "source": [
        "## Initiating the weights and biases along with their sizes"
      ],
      "metadata": {
        "id": "fL1nGVTsoEaD"
      }
    },
    {
      "cell_type": "code",
      "execution_count": null,
      "metadata": {
        "id": "E1rruImtVCXm"
      },
      "outputs": [],
      "source": [
        "W1 = np.random.uniform(-1.0, 1.0, (4, 4))\n",
        "W2 = np.random.uniform(-1.0, 1.0, (4, 1))"
      ]
    },
    {
      "cell_type": "code",
      "execution_count": null,
      "metadata": {
        "colab": {
          "base_uri": "https://localhost:8080/"
        },
        "id": "dh10gTiphzM8",
        "outputId": "1953304f-a8c1-4640-d6b2-31cec3c0f411"
      },
      "outputs": [
        {
          "output_type": "execute_result",
          "data": {
            "text/plain": [
              "array([[-0.09210936, -0.26877587,  0.75996943, -0.32275921],\n",
              "       [ 0.87668576, -0.70411716,  0.9042849 ,  0.539733  ],\n",
              "       [-0.65087226, -0.88674635, -0.46063582,  0.1743842 ],\n",
              "       [ 0.9067979 ,  0.61138103,  0.85211414, -0.80702252]])"
            ]
          },
          "metadata": {},
          "execution_count": 6
        }
      ],
      "source": [
        "W1"
      ]
    },
    {
      "cell_type": "code",
      "source": [
        "W2"
      ],
      "metadata": {
        "colab": {
          "base_uri": "https://localhost:8080/"
        },
        "id": "jcXZAPj9sBNP",
        "outputId": "e293b665-e009-48f6-9715-31571ca4de80"
      },
      "execution_count": null,
      "outputs": [
        {
          "output_type": "execute_result",
          "data": {
            "text/plain": [
              "array([[0.83167354],\n",
              "       [0.46154436],\n",
              "       [0.78560989],\n",
              "       [0.09755663]])"
            ]
          },
          "metadata": {},
          "execution_count": 7
        }
      ]
    },
    {
      "cell_type": "code",
      "execution_count": null,
      "metadata": {
        "id": "szEUkmPeVuVo"
      },
      "outputs": [],
      "source": [
        "b1=np.random.uniform(-1.0, 1.0, (4))\n",
        "b2 = np.random.uniform(-1.0, 1.0, (1))"
      ]
    },
    {
      "cell_type": "code",
      "source": [
        "b1"
      ],
      "metadata": {
        "colab": {
          "base_uri": "https://localhost:8080/"
        },
        "id": "A2BKOscLsLwO",
        "outputId": "b6af99fa-4c49-4a2d-dda4-a572f0ebd3f7"
      },
      "execution_count": null,
      "outputs": [
        {
          "output_type": "execute_result",
          "data": {
            "text/plain": [
              "array([ 0.553289  , -0.84020581, -0.23648861,  0.97238006])"
            ]
          },
          "metadata": {},
          "execution_count": 9
        }
      ]
    },
    {
      "cell_type": "code",
      "source": [
        "b2"
      ],
      "metadata": {
        "colab": {
          "base_uri": "https://localhost:8080/"
        },
        "id": "bk62ELpYsNGa",
        "outputId": "d641c27d-8b6b-4e9c-e46c-ff5efdd78400"
      },
      "execution_count": null,
      "outputs": [
        {
          "output_type": "execute_result",
          "data": {
            "text/plain": [
              "array([0.68649735])"
            ]
          },
          "metadata": {},
          "execution_count": 10
        }
      ]
    },
    {
      "cell_type": "markdown",
      "source": [
        "## Defining the sigmoid Function and its Derivative Function"
      ],
      "metadata": {
        "id": "IbSS2upHoMti"
      }
    },
    {
      "cell_type": "code",
      "execution_count": null,
      "metadata": {
        "id": "TMQM1drRV08J"
      },
      "outputs": [],
      "source": [
        "def sigmoid(x):\n",
        "  return 1/(1+np.exp(-x))"
      ]
    },
    {
      "cell_type": "code",
      "execution_count": null,
      "metadata": {
        "id": "w0D-PkxMWHkI"
      },
      "outputs": [],
      "source": [
        "def sigmoid_derivative(x):\n",
        "  return x*(1-x)"
      ]
    },
    {
      "cell_type": "markdown",
      "source": [
        "## Defining the Forward Pass"
      ],
      "metadata": {
        "id": "Qs9ct-lAoTEm"
      }
    },
    {
      "cell_type": "code",
      "execution_count": null,
      "metadata": {
        "id": "ymdNxkE4WKP9"
      },
      "outputs": [],
      "source": [
        "#forward pass\n",
        "def forward_pass(X, W1, b1, W2, b2):\n",
        "    # Compute hidden layer activation\n",
        "    hidden_input = np.dot(X, W1) + b1\n",
        "    hidden_output = sigmoid(hidden_input)\n",
        "\n",
        "    # Compute output layer activation\n",
        "    final_input = np.dot(hidden_output, W2) + b2\n",
        "    final_output = sigmoid(final_input)\n",
        "\n",
        "    return hidden_output, final_output\n"
      ]
    },
    {
      "cell_type": "markdown",
      "source": [
        "## Defining the Backward Pass"
      ],
      "metadata": {
        "id": "Ynbi7mh_oju_"
      }
    },
    {
      "cell_type": "code",
      "execution_count": null,
      "metadata": {
        "id": "6M1PhE_UWlfg"
      },
      "outputs": [],
      "source": [
        "# Backward pass\n",
        "def backward_pass(X, y, hidden_output, final_output):\n",
        "    # Output layer error\n",
        "    error = y - final_output\n",
        "    d_output = error * sigmoid_derivative(final_output)\n",
        "\n",
        "    # Gradient for hidden to output layer weights\n",
        "    W2_gradient = np.dot(hidden_output.T, d_output)\n",
        "    b2_gradient = np.sum(d_output, axis=0)\n",
        "\n",
        "    # Hidden layer error\n",
        "    hidden_error = np.dot(d_output, W2.T) * sigmoid_derivative(hidden_output)\n",
        "\n",
        "    # Gradient for input to hidden layer weights\n",
        "    W1_gradient = np.dot(X.T, hidden_error)\n",
        "    b1_gradient = np.sum(hidden_error, axis=0)\n",
        "\n",
        "    return W1_gradient, b1_gradient, W2_gradient, b2_gradient\n"
      ]
    },
    {
      "cell_type": "markdown",
      "source": [
        "## Defining Function for Updating Weights and Biases"
      ],
      "metadata": {
        "id": "UzKJLYTgom7b"
      }
    },
    {
      "cell_type": "code",
      "execution_count": null,
      "metadata": {
        "id": "MyoSW3U1XILK"
      },
      "outputs": [],
      "source": [
        "# Weight updates with momentum\n",
        "def update_weights(W1, b1, W2, b2, W1_update, b1_update, W2_update, b2_update, W1_gradient, b1_gradient, W2_gradient, b2_gradient, learning_rate, momentum):\n",
        "    # Update hidden to output weights with momentum\n",
        "    W2_update = momentum * W2_update + learning_rate * W2_gradient\n",
        "    b2_update = momentum * b2_update + learning_rate * b2_gradient\n",
        "    W2 += W2_update\n",
        "    b2 += b2_update\n",
        "\n",
        "    # Update input to hidden weights with momentum\n",
        "    W1_update = momentum * W1_update + learning_rate * W1_gradient\n",
        "    b1_update = momentum * b1_update + learning_rate * b1_gradient\n",
        "    W1 += W1_update\n",
        "    b1 += b1_update\n",
        "\n",
        "    return W1_update, b1_update, W2_update, b2_update,W1,b1,W2,b2\n"
      ]
    },
    {
      "cell_type": "markdown",
      "source": [
        "## Implementing the Training Loop"
      ],
      "metadata": {
        "id": "QhfTHIcgo1El"
      }
    },
    {
      "cell_type": "code",
      "execution_count": null,
      "metadata": {
        "id": "-Dib8_GvaKVO"
      },
      "outputs": [],
      "source": [
        "def train_network(X, y, W1, b1, W2, b2, W1_update,W2_update,b1_update,b2_update,learning_rate, momentum, max_epochs=1000000000, error_threshold=0.05):\n",
        "  start_time = time.time()\n",
        "  for epoch in range(max_epochs):\n",
        "    #print(\"epoch:\",epoch)\n",
        "    hidden_output, final_output = forward_pass(X, W1, b1, W2, b2)\n",
        "    #print(\"hidden_layer_output:\", hidden_output)\n",
        "    #print(\"final_output:\", final_output)\n",
        "    W1_gradient, b1_gradient, W2_gradient, b2_gradient = backward_pass(X, y, hidden_output, final_output)\n",
        "\n",
        "    # Update weights and momentum terms\n",
        "    W1_update, b1_update, W2_update, b2_update,W1,b1,W2,b2 = update_weights(W1, b1, W2, b2, W1_update, b1_update, W2_update, b2_update, W1_gradient, b1_gradient, W2_gradient, b2_gradient, learning_rate, momentum)\n",
        "    #print(\"updates weights:\", W1)\n",
        "\n",
        "    # Check for stopping condition\n",
        "    if np.all(np.abs(y - final_output) <= error_threshold):\n",
        "      end_time = time.time()\n",
        "      print(f\"Training completed in {epoch} epochs.\")\n",
        "      print(f\"The absolute error for learning rate {learning_rate} and momentum {momentum} is {np.max(np.abs(y - final_output))}.\")\n",
        "      training_time = end_time - start_time\n",
        "      print(f\"Training time for learning rate {learning_rate} and momentum {momentum} is {training_time:.4f} seconds.\", '\\n')\n",
        "      break\n",
        "\n",
        "  return epoch,training_time\n",
        "\n",
        "\n",
        "\n"
      ]
    },
    {
      "cell_type": "markdown",
      "source": [
        "## Initializing the weights update to zero"
      ],
      "metadata": {
        "id": "2w49MH33o5Z8"
      }
    },
    {
      "cell_type": "code",
      "execution_count": null,
      "metadata": {
        "id": "Qy_aHt9jbF6O"
      },
      "outputs": [],
      "source": [
        "# Initialize weight updates to zero\n",
        "W1_update = np.zeros_like(W1)\n",
        "b1_update = np.zeros_like(b1)\n",
        "W2_update = np.zeros_like(W2)\n",
        "b2_update = np.zeros_like(b2)\n"
      ]
    },
    {
      "cell_type": "markdown",
      "source": [
        "## Stating the Learning rates and Momentum values"
      ],
      "metadata": {
        "id": "6_zMrwYJo9ad"
      }
    },
    {
      "cell_type": "code",
      "execution_count": null,
      "metadata": {
        "colab": {
          "base_uri": "https://localhost:8080/"
        },
        "id": "a-RK8ljuaKxM",
        "outputId": "d50e6295-07a6-4c44-a6df-c5e00acaf1f8"
      },
      "outputs": [
        {
          "output_type": "stream",
          "name": "stdout",
          "text": [
            "Training with learning rate: 0.05\n",
            "Training completed in 33337 epochs.\n",
            "The absolute error for learning rate 0.05 and momentum 0 is 0.04999818811226812.\n",
            "Training time for learning rate 0.05 and momentum 0 is 13.7107 seconds. \n",
            "\n",
            "Training with learning rate: 0.1\n",
            "Training completed in 650796 epochs.\n",
            "The absolute error for learning rate 0.1 and momentum 0 is 0.0499998440055472.\n",
            "Training time for learning rate 0.1 and momentum 0 is 96.8166 seconds. \n",
            "\n",
            "Training with learning rate: 0.15000000000000002\n",
            "Training completed in 493844 epochs.\n",
            "The absolute error for learning rate 0.15000000000000002 and momentum 0 is 0.049999530927828016.\n",
            "Training time for learning rate 0.15000000000000002 and momentum 0 is 56.2280 seconds. \n",
            "\n",
            "Training with learning rate: 0.2\n",
            "Training completed in 13787 epochs.\n",
            "The absolute error for learning rate 0.2 and momentum 0 is 0.04999727020747277.\n",
            "Training time for learning rate 0.2 and momentum 0 is 1.4083 seconds. \n",
            "\n",
            "Training with learning rate: 0.25\n",
            "Training completed in 109120 epochs.\n",
            "The absolute error for learning rate 0.25 and momentum 0 is 0.049999927993259696.\n",
            "Training time for learning rate 0.25 and momentum 0 is 12.2836 seconds. \n",
            "\n",
            "Training with learning rate: 0.3\n",
            "Training completed in 7294 epochs.\n",
            "The absolute error for learning rate 0.3 and momentum 0 is 0.049996877639566895.\n",
            "Training time for learning rate 0.3 and momentum 0 is 0.7153 seconds. \n",
            "\n",
            "Training with learning rate: 0.35000000000000003\n",
            "Training completed in 224282 epochs.\n",
            "The absolute error for learning rate 0.35000000000000003 and momentum 0 is 0.049999918013451716.\n",
            "Training time for learning rate 0.35000000000000003 and momentum 0 is 25.2320 seconds. \n",
            "\n",
            "Training with learning rate: 0.4\n",
            "Training completed in 4190 epochs.\n",
            "The absolute error for learning rate 0.4 and momentum 0 is 0.04999994811844955.\n",
            "Training time for learning rate 0.4 and momentum 0 is 0.4292 seconds. \n",
            "\n",
            "Training with learning rate: 0.45\n",
            "Training completed in 65556 epochs.\n",
            "The absolute error for learning rate 0.45 and momentum 0 is 0.049999687220604994.\n",
            "Training time for learning rate 0.45 and momentum 0 is 6.8892 seconds. \n",
            "\n",
            "Training with learning rate: 0.5\n",
            "Training completed in 5980 epochs.\n",
            "The absolute error for learning rate 0.5 and momentum 0 is 0.04999252049051105.\n",
            "Training time for learning rate 0.5 and momentum 0 is 0.5942 seconds. \n",
            "\n"
          ]
        }
      ],
      "source": [
        "learning_rates = np.arange(0.05, 0.55, 0.05)\n",
        "momentum = 0\n",
        "time_0=[]\n",
        "for eta in learning_rates:\n",
        "    print(f\"Training with learning rate: {eta}\")\n",
        "    # Re-initialize weights and biases for each training run\n",
        "    W1 = np.random.uniform(-1.0, 1.0, (4, 4))\n",
        "    b1 = np.random.uniform(-1.0, 1.0, (4))\n",
        "    W2 = np.random.uniform(-1.0, 1.0, (4, 1))\n",
        "    b2 = np.random.uniform(-1.0, 1.0, (1))\n",
        "\n",
        "    # Train the network\n",
        "    epochs,training_time = train_network(inputs, outputs, W1, b1, W2, b2, W1_update,W2_update,b1_update,b2_update,learning_rate=eta, momentum=momentum)\n",
        "    time_0.append(training_time)\n",
        "    #print(f\"Learning rate: {eta}, Epochs: {epochs}\")\n"
      ]
    },
    {
      "cell_type": "code",
      "execution_count": null,
      "metadata": {
        "id": "uYXGWhlJi2tQ",
        "colab": {
          "base_uri": "https://localhost:8080/"
        },
        "outputId": "6132ec81-7058-43d6-a500-e1cadd74b2fe"
      },
      "outputs": [
        {
          "output_type": "stream",
          "name": "stdout",
          "text": [
            "Training with learning rate: 0.05\n",
            "Training completed in 159833 epochs.\n",
            "The absolute error for learning rate 0.05 and momentum 0.9 is 0.049999008129870015.\n",
            "Training time for learning rate 0.05 and momentum 0.9 is 18.0647 seconds. \n",
            "\n",
            "Training with learning rate: 0.1\n",
            "Training completed in 2101 epochs.\n",
            "The absolute error for learning rate 0.1 and momentum 0.9 is 0.04999218813725559.\n",
            "Training time for learning rate 0.1 and momentum 0.9 is 0.1891 seconds. \n",
            "\n",
            "Training with learning rate: 0.15000000000000002\n",
            "Training completed in 1806 epochs.\n",
            "The absolute error for learning rate 0.15000000000000002 and momentum 0.9 is 0.04998007181413244.\n",
            "Training time for learning rate 0.15000000000000002 and momentum 0.9 is 0.1779 seconds. \n",
            "\n",
            "Training with learning rate: 0.2\n",
            "Training completed in 65642 epochs.\n",
            "The absolute error for learning rate 0.2 and momentum 0.9 is 0.04999453885240701.\n",
            "Training time for learning rate 0.2 and momentum 0.9 is 6.1600 seconds. \n",
            "\n",
            "Training with learning rate: 0.25\n",
            "Training completed in 25519 epochs.\n",
            "The absolute error for learning rate 0.25 and momentum 0.9 is 0.04999312993986482.\n",
            "Training time for learning rate 0.25 and momentum 0.9 is 2.4624 seconds. \n",
            "\n",
            "Training with learning rate: 0.3\n",
            "Training completed in 19948 epochs.\n",
            "The absolute error for learning rate 0.3 and momentum 0.9 is 0.04999893440860497.\n",
            "Training time for learning rate 0.3 and momentum 0.9 is 2.7044 seconds. \n",
            "\n",
            "Training with learning rate: 0.35000000000000003\n",
            "Training completed in 27745 epochs.\n",
            "The absolute error for learning rate 0.35000000000000003 and momentum 0.9 is 0.04999977071454886.\n",
            "Training time for learning rate 0.35000000000000003 and momentum 0.9 is 2.9545 seconds. \n",
            "\n",
            "Training with learning rate: 0.4\n",
            "Training completed in 798 epochs.\n",
            "The absolute error for learning rate 0.4 and momentum 0.9 is 0.049923603681396034.\n",
            "Training time for learning rate 0.4 and momentum 0.9 is 0.0677 seconds. \n",
            "\n",
            "Training with learning rate: 0.45\n",
            "Training completed in 1802 epochs.\n",
            "The absolute error for learning rate 0.45 and momentum 0.9 is 0.0497793123036121.\n",
            "Training time for learning rate 0.45 and momentum 0.9 is 0.1964 seconds. \n",
            "\n",
            "Training with learning rate: 0.5\n",
            "Training completed in 637 epochs.\n",
            "The absolute error for learning rate 0.5 and momentum 0.9 is 0.04995512820731052.\n",
            "Training time for learning rate 0.5 and momentum 0.9 is 0.0608 seconds. \n",
            "\n"
          ]
        }
      ],
      "source": [
        "learning_rates = np.arange(0.05, 0.55, 0.05)\n",
        "momentum = 0.9\n",
        "time_9=[]\n",
        "for eta in learning_rates:\n",
        "    print(f\"Training with learning rate: {eta}\")\n",
        "    # Re-initialize weights and biases for each training run\n",
        "    W1 = np.random.uniform(-1.0, 1.0, (4, 4))\n",
        "    b1 = np.random.uniform(-1.0, 1.0, (4))\n",
        "    W2 = np.random.uniform(-1.0, 1.0, (4, 1))\n",
        "    b2 = np.random.uniform(-1.0, 1.0, (1))\n",
        "\n",
        "    # Train the network\n",
        "    epochs,training_time = train_network(inputs, outputs, W1, b1, W2, b2, W1_update,W2_update,b1_update,b2_update,learning_rate=eta, momentum=momentum)\n",
        "    time_9.append(training_time)\n",
        "    #print(f\"Learning rate: {eta}, Epochs: {epochs}\")\n"
      ]
    },
    {
      "cell_type": "markdown",
      "source": [
        "## Plotting Traning time vs Learning rate for two momentum values"
      ],
      "metadata": {
        "id": "nk0Ox6itpfni"
      }
    },
    {
      "cell_type": "code",
      "source": [
        "learning_rates = [0.05, 0.1, 0.15, 0.2, 0.25, 0.3, 0.35, 0.4, 0.45, 0.5]\n",
        "# Create the plot\n",
        "plt.figure(figsize=(10, 6))\n",
        "\n",
        "# Line for momentum = 0 (blue)\n",
        "plt.plot(learning_rates, time_0, color='blue', marker='o', label='Momentum = 0')\n",
        "\n",
        "# Line for momentum = 0.9 (red)\n",
        "plt.plot(learning_rates, time_9, color='red', marker='o', label='Momentum = 0.9')\n",
        "\n",
        "# Adding title and labels\n",
        "plt.title('Training Time vs Learning Rate for Different Momentums')\n",
        "plt.xlabel('Learning Rate')\n",
        "plt.ylabel('Training Time (seconds)')\n",
        "\n",
        "# Adding a legend\n",
        "plt.legend(loc='best')\n",
        "\n",
        "# Adding grid\n",
        "plt.grid(True)\n",
        "\n",
        "# Show the plot\n",
        "plt.show()"
      ],
      "metadata": {
        "colab": {
          "base_uri": "https://localhost:8080/",
          "height": 564
        },
        "id": "OGnb2uo0zuNY",
        "outputId": "f4b5b4e0-4430-42a7-e8eb-59dd6a93dd51"
      },
      "execution_count": null,
      "outputs": [
        {
          "output_type": "display_data",
          "data": {
            "text/plain": [
              "<Figure size 1000x600 with 1 Axes>"
            ],
            "image/png": "[encoded data removed]"
          },
          "metadata": {}
        }
      ]
    }
  ],
  "metadata": {
    "accelerator": "GPU",
    "colab": {
      "gpuType": "T4",
      "provenance": []
    },
    "kernelspec": {
      "display_name": "Python 3",
      "name": "python3"
    },
    "language_info": {
      "name": "python"
    }
  },
  "nbformat": 4,
  "nbformat_minor": 0
}